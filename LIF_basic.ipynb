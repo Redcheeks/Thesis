{
 "cells": [
  {
   "cell_type": "markdown",
   "metadata": {},
   "source": [
    "# Run at Start"
   ]
  },
  {
   "cell_type": "code",
   "execution_count": 2,
   "metadata": {},
   "outputs": [],
   "source": [
    "# Imports\n",
    "import numpy as np\n",
    "import matplotlib.pyplot as plt\n",
    "\n",
    "# @title Figure Settings\n",
    "import logging\n",
    "logging.getLogger('matplotlib.font_manager').disabled = True\n",
    "\n",
    "import ipywidgets as widgets  # interactive display\n",
    "%config InlineBackend.figure_format = 'retina'\n",
    "# use NMA plot style\n",
    "plt.style.use(\"https://raw.githubusercontent.com/NeuromatchAcademy/course-content/main/nma.mplstyle\")\n",
    "my_layout = widgets.Layout()\n",
    "\n",
    "\n",
    "# @title Plotting Functions\n",
    "\n",
    "def plot_volt_trace(pars, v, sp):\n",
    "  \"\"\"\n",
    "  Plot trajetory of membrane potential for a single neuron\n",
    "\n",
    "  Expects:\n",
    "  pars   : parameter dictionary\n",
    "  v      : volt trajetory\n",
    "  sp     : spike train\n",
    "\n",
    "  Returns:\n",
    "  figure of the membrane potential trajetory for a single neuron\n",
    "  \"\"\"\n",
    "\n",
    "  V_th = pars['V_th']\n",
    "  dt, range_t = pars['dt'], pars['range_t']\n",
    "  if sp.size:\n",
    "    sp_num = (sp / dt).astype(int) - 1\n",
    "    v[sp_num] += 20  # draw nicer spikes\n",
    "\n",
    "  plt.plot(pars['range_t'], v, 'b')\n",
    "  plt.axhline(V_th, 0, 1, color='k', ls='--')\n",
    "  plt.xlabel('Time (ms)')\n",
    "  plt.ylabel('V (mV)')\n",
    "  plt.legend(['Membrane\\npotential', r'Threshold V$_{\\mathrm{th}}$'],\n",
    "             loc=[1.05, 0.75])\n",
    "  plt.ylim([-80, -40])\n",
    "  plt.show()\n",
    "\n",
    "\n",
    "def plot_GWN(pars, I_GWN):\n",
    "  \"\"\"\n",
    "  Args:\n",
    "    pars  : parameter dictionary\n",
    "    I_GWN : Gaussian white noise input\n",
    "\n",
    "  Returns:\n",
    "    figure of the gaussian white noise input\n",
    "  \"\"\"\n",
    "\n",
    "  plt.figure(figsize=(12, 4))\n",
    "  plt.subplot(121)\n",
    "  plt.plot(pars['range_t'][::3], I_GWN[::3], 'b')\n",
    "  plt.xlabel('Time (ms)')\n",
    "  plt.ylabel(r'$I_{GWN}$ (pA)')\n",
    "  plt.subplot(122)\n",
    "  plot_volt_trace(pars, v, sp)\n",
    "  plt.tight_layout()\n",
    "  plt.show()\n",
    "\n",
    "\n",
    "def my_hists(isi1, isi2, cv1, cv2, sigma1, sigma2):\n",
    "  \"\"\"\n",
    "  Args:\n",
    "    isi1 : vector with inter-spike intervals\n",
    "    isi2 : vector with inter-spike intervals\n",
    "    cv1  : coefficient of variation for isi1\n",
    "    cv2  : coefficient of variation for isi2\n",
    "\n",
    "  Returns:\n",
    "    figure with two histograms, isi1, isi2\n",
    "\n",
    "  \"\"\"\n",
    "  plt.figure(figsize=(11, 4))\n",
    "  my_bins = np.linspace(10, 30, 20)\n",
    "  plt.subplot(121)\n",
    "  plt.hist(isi1, bins=my_bins, color='b', alpha=0.5)\n",
    "  plt.xlabel('ISI (ms)')\n",
    "  plt.ylabel('count')\n",
    "  plt.title(r'$\\sigma_{GWN}=$%.1f, CV$_{\\mathrm{isi}}$=%.3f' % (sigma1, cv1))\n",
    "\n",
    "  plt.subplot(122)\n",
    "  plt.hist(isi2, bins=my_bins, color='b', alpha=0.5)\n",
    "  plt.xlabel('ISI (ms)')\n",
    "  plt.ylabel('count')\n",
    "  plt.title(r'$\\sigma_{GWN}=$%.1f, CV$_{\\mathrm{isi}}$=%.3f' % (sigma2, cv2))\n",
    "  plt.tight_layout()\n",
    "  plt.show()\n"
   ]
  },
  {
   "cell_type": "markdown",
   "metadata": {},
   "source": [
    "# Task 1"
   ]
  },
  {
   "cell_type": "markdown",
   "metadata": {},
   "source": [
    "Execute this code to initialize the default parameters"
   ]
  },
  {
   "cell_type": "code",
   "execution_count": 3,
   "metadata": {},
   "outputs": [
    {
     "name": "stdout",
     "output_type": "stream",
     "text": [
      "{'V_th': -55.0, 'V_reset': -75.0, 'tau_m': 10.0, 'g_L': 10.0, 'V_init': -75.0, 'E_L': -75.0, 'tref': 2.0, 'T': 400.0, 'dt': 0.1, 'range_t': array([0.000e+00, 1.000e-01, 2.000e-01, ..., 3.997e+02, 3.998e+02,\n",
      "       3.999e+02], shape=(4000,))}\n"
     ]
    }
   ],
   "source": [
    "def default_pars(**kwargs):\n",
    "  pars = {}\n",
    "\n",
    "  # typical neuron parameters#\n",
    "  pars['V_th'] = -55.     # spike threshold [mV]\n",
    "  pars['V_reset'] = -75.  # reset potential [mV]\n",
    "  pars['tau_m'] = 10.     # membrane time constant [ms]\n",
    "  pars['g_L'] = 10.       # leak conductance [nS]\n",
    "  pars['V_init'] = -75.   # initial potential [mV]\n",
    "  pars['E_L'] = -75.      # leak reversal potential [mV]\n",
    "  pars['tref'] = 2.       # refractory time (ms)\n",
    "\n",
    "  # simulation parameters #\n",
    "  pars['T'] = 400.  # Total duration of simulation [ms]\n",
    "  pars['dt'] = .1   # Simulation time step [ms]\n",
    "\n",
    "  # external parameters if any #\n",
    "  for k in kwargs:\n",
    "    pars[k] = kwargs[k]\n",
    "\n",
    "  pars['range_t'] = np.arange(0, pars['T'], pars['dt'])  # Vector of discretized time points [ms]\n",
    "\n",
    "  return pars\n",
    "\n",
    "\n",
    "pars = default_pars()\n",
    "print(pars)"
   ]
  },
  {
   "cell_type": "markdown",
   "metadata": {},
   "source": [
    "Complete the function below to simulate the LIF neuron when receiving external current inputs. You can use v, sp = run_LIF(pars, Iinj) to get the membrane potential (v) and spike train (sp) given the dictionary pars and input current Iinj."
   ]
  },
  {
   "cell_type": "code",
   "execution_count": 7,
   "metadata": {},
   "outputs": [
    {
     "ename": "NotImplementedError",
     "evalue": "Student Exercise: calculate the dv/dt and the update step!",
     "output_type": "error",
     "traceback": [
      "\u001b[1;31m---------------------------------------------------------------------------\u001b[0m",
      "\u001b[1;31mNotImplementedError\u001b[0m                       Traceback (most recent call last)",
      "Cell \u001b[1;32mIn[7], line 75\u001b[0m\n\u001b[0;32m     72\u001b[0m pars \u001b[38;5;241m=\u001b[39m default_pars(T\u001b[38;5;241m=\u001b[39m\u001b[38;5;241m500\u001b[39m)\n\u001b[0;32m     74\u001b[0m \u001b[38;5;66;03m# Simulate LIF model\u001b[39;00m\n\u001b[1;32m---> 75\u001b[0m v, sp \u001b[38;5;241m=\u001b[39m \u001b[43mrun_LIF\u001b[49m\u001b[43m(\u001b[49m\u001b[43mpars\u001b[49m\u001b[43m,\u001b[49m\u001b[43m \u001b[49m\u001b[43mIinj\u001b[49m\u001b[38;5;241;43m=\u001b[39;49m\u001b[38;5;241;43m100\u001b[39;49m\u001b[43m,\u001b[49m\u001b[43m \u001b[49m\u001b[43mstop\u001b[49m\u001b[38;5;241;43m=\u001b[39;49m\u001b[38;5;28;43;01mTrue\u001b[39;49;00m\u001b[43m)\u001b[49m\n\u001b[0;32m     77\u001b[0m \u001b[38;5;66;03m# Visualize\u001b[39;00m\n\u001b[0;32m     78\u001b[0m plot_volt_trace(pars, v, sp)\n",
      "Cell \u001b[1;32mIn[7], line 55\u001b[0m, in \u001b[0;36mrun_LIF\u001b[1;34m(pars, Iinj, stop)\u001b[0m\n\u001b[0;32m     49\u001b[0m       tr \u001b[38;5;241m=\u001b[39m tref \u001b[38;5;241m/\u001b[39m dt  \u001b[38;5;66;03m# set refractory time\u001b[39;00m\n\u001b[0;32m     52\u001b[0m \u001b[38;5;66;03m########################################################################\u001b[39;00m\n\u001b[0;32m     53\u001b[0m     \u001b[38;5;66;03m## TODO for students: compute the membrane potential v, spike train sp #\u001b[39;00m\n\u001b[0;32m     54\u001b[0m     \u001b[38;5;66;03m# Fill out function and remove\u001b[39;00m\n\u001b[1;32m---> 55\u001b[0m     \u001b[38;5;28;01mraise\u001b[39;00m \u001b[38;5;167;01mNotImplementedError\u001b[39;00m(\u001b[38;5;124m'\u001b[39m\u001b[38;5;124mStudent Exercise: calculate the dv/dt and the update step!\u001b[39m\u001b[38;5;124m'\u001b[39m)\n\u001b[0;32m     56\u001b[0m     \u001b[38;5;66;03m########################################################################\u001b[39;00m\n\u001b[0;32m     57\u001b[0m \n\u001b[0;32m     58\u001b[0m     \u001b[38;5;66;03m# Calculate the increment of the membrane potential\u001b[39;00m\n\u001b[0;32m     59\u001b[0m     dv \u001b[38;5;241m=\u001b[39m \u001b[38;5;241m.\u001b[39m\u001b[38;5;241m.\u001b[39m\u001b[38;5;241m.\u001b[39m\n",
      "\u001b[1;31mNotImplementedError\u001b[0m: Student Exercise: calculate the dv/dt and the update step!"
     ]
    }
   ],
   "source": [
    "def run_LIF(pars, Iinj, stop=False):\n",
    "  \"\"\"\n",
    "  Simulate the LIF dynamics with external input current\n",
    "\n",
    "  Args:\n",
    "    pars       : parameter dictionary\n",
    "    Iinj       : input current [pA]. The injected current here can be a value\n",
    "                 or an array\n",
    "    stop       : boolean. If True, use a current pulse\n",
    "\n",
    "  Returns:\n",
    "    rec_v      : membrane potential\n",
    "    rec_sp     : spike times\n",
    "  \"\"\"\n",
    "\n",
    "  # Set parameters\n",
    "  V_th, V_reset = pars['V_th'], pars['V_reset']\n",
    "  tau_m, g_L = pars['tau_m'], pars['g_L']\n",
    "  V_init, E_L = pars['V_init'], pars['E_L']\n",
    "  dt, range_t = pars['dt'], pars['range_t']\n",
    "  Lt = range_t.size\n",
    "  tref = pars['tref']\n",
    "\n",
    "  # Initialize voltage\n",
    "  v = np.zeros(Lt)\n",
    "  v[0] = V_init\n",
    "\n",
    "  # Set current time course\n",
    "  Iinj = Iinj * np.ones(Lt)\n",
    "\n",
    "  # If current pulse, set beginning and end to 0\n",
    "  if stop:\n",
    "    Iinj[:int(len(Iinj) / 2) - 1000] = 0\n",
    "    Iinj[int(len(Iinj) / 2) + 1000:] = 0\n",
    "\n",
    "  # Loop over time\n",
    "  rec_spikes = []  # record spike times\n",
    "  tr = 0.  # the count for refractory duration\n",
    "\n",
    "  for it in range(Lt - 1):\n",
    "\n",
    "    if tr > 0:  # check if in refractory period\n",
    "      v[it] = V_reset  # set voltage to reset\n",
    "      tr = tr - 1 # reduce running counter of refractory period\n",
    "\n",
    "    elif v[it] >= V_th:  # if voltage over threshold\n",
    "      rec_spikes.append(it)  # record spike event\n",
    "      v[it] = V_reset  # reset voltage\n",
    "      tr = tref / dt  # set refractory time\n",
    "\n",
    "\n",
    "########################################################################\n",
    "    ## TODO for students: compute the membrane potential v, spike train sp #\n",
    "    # Fill out function and remove\n",
    "    raise NotImplementedError('Student Exercise: calculate the dv/dt and the update step!')\n",
    "    ########################################################################\n",
    "\n",
    "    # Calculate the increment of the membrane potential\n",
    "    dv = ...\n",
    "\n",
    "    # Update the membrane potential\n",
    "    v[it + 1] = ...\n",
    "\n",
    "\n",
    "  # Get spike times in ms\n",
    "  rec_spikes = np.array(rec_spikes) * dt\n",
    "\n",
    "  return v, rec_spikes\n",
    "\n",
    "\n",
    "# Get parameters\n",
    "pars = default_pars(T=500)\n",
    "\n",
    "# Simulate LIF model\n",
    "v, sp = run_LIF(pars, Iinj=100, stop=True)\n",
    "\n",
    "# Visualize\n",
    "plot_volt_trace(pars, v, sp)"
   ]
  },
  {
   "cell_type": "markdown",
   "metadata": {},
   "source": [
    "# SOLUTION"
   ]
  },
  {
   "cell_type": "code",
   "execution_count": null,
   "metadata": {},
   "outputs": [],
   "source": [
    "\n",
    "   # Calculate the increment of the membrane potential\n",
    "    dv = (-(v[it] - E_L) + (Iinj[it]/g_L) ) * (dt/tau_m)\n",
    "\n",
    "    # Update the membrane potential\n",
    "    v[it + 1] = v[it] + dv "
   ]
  },
  {
   "cell_type": "markdown",
   "metadata": {},
   "source": [
    "# Task 2 - response to different inputs\n"
   ]
  },
  {
   "cell_type": "markdown",
   "metadata": {},
   "source": [
    "## 2.1 DC Current"
   ]
  },
  {
   "cell_type": "code",
   "execution_count": 8,
   "metadata": {},
   "outputs": [
    {
     "data": {
      "application/vnd.jupyter.widget-view+json": {
       "model_id": "fa7741ef29e840ecafb28920b2a6107b",
       "version_major": 2,
       "version_minor": 0
      },
      "text/plain": [
       "interactive(children=(FloatSlider(value=50.0, description='I_dc', layout=Layout(width='450px'), max=300.0, ste…"
      ]
     },
     "metadata": {},
     "output_type": "display_data"
    }
   ],
   "source": [
    "\n",
    "# @markdown Make sure you execute this cell to enable the widget!\n",
    "my_layout.width = '450px'\n",
    "@widgets.interact(\n",
    "    I_dc=widgets.FloatSlider(50., min=0., max=300., step=10.,\n",
    "                             layout=my_layout),\n",
    "    tau_m=widgets.FloatSlider(10., min=2., max=20., step=2.,\n",
    "                              layout=my_layout)\n",
    ")\n",
    "\n",
    "def diff_DC(I_dc=200., tau_m=10.):\n",
    "  pars = default_pars(T=100.)\n",
    "  pars['tau_m'] = tau_m\n",
    "  v, sp = run_LIF(pars, Iinj=I_dc)\n",
    "  plot_volt_trace(pars, v, sp)\n",
    "  plt.show()"
   ]
  },
  {
   "cell_type": "markdown",
   "metadata": {},
   "source": [
    "***Notes: \n",
    "minimum I_DC is over 200, "
   ]
  },
  {
   "cell_type": "markdown",
   "metadata": {},
   "source": [
    "## 2.2 Gaussian White Noise (GWN) current"
   ]
  },
  {
   "cell_type": "code",
   "execution_count": null,
   "metadata": {},
   "outputs": [],
   "source": []
  },
  {
   "cell_type": "markdown",
   "metadata": {},
   "source": [
    "# Task 3"
   ]
  },
  {
   "cell_type": "markdown",
   "metadata": {},
   "source": []
  }
 ],
 "metadata": {
  "kernelspec": {
   "display_name": "Python 3",
   "language": "python",
   "name": "python3"
  },
  "language_info": {
   "codemirror_mode": {
    "name": "ipython",
    "version": 3
   },
   "file_extension": ".py",
   "mimetype": "text/x-python",
   "name": "python",
   "nbconvert_exporter": "python",
   "pygments_lexer": "ipython3",
   "version": "3.10.2"
  }
 },
 "nbformat": 4,
 "nbformat_minor": 2
}
